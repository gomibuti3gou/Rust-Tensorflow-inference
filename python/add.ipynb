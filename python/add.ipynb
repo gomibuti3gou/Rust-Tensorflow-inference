{
 "cells": [
  {
   "cell_type": "code",
   "execution_count": 3,
   "metadata": {},
   "outputs": [],
   "source": [
    "import tensorflow as tf"
   ]
  },
  {
   "cell_type": "code",
   "execution_count": 5,
   "metadata": {},
   "outputs": [],
   "source": [
    "@tf.function\n",
    "def add(x,y):\n",
    "  tf.add(x,y,name=\"z\")\n",
    "\n",
    "x = tf.TensorSpec((),dtype=tf.dtypes.int32,name=\"x\")\n",
    "y = tf.TensorSpec((),dtype=tf.dtypes.int32,name=\"y\")\n",
    "\n",
    "concrete_function = add.get_concrete_function(x,y)\n",
    "directory = \"addition\"\n",
    "tf.io.write_graph(concrete_function.graph, directory, \"model.pb\", as_text=False)\n",
    "\n",
    "logdir = \"logs/addition\"\n",
    "writer = tf.summary.create_file_writer(logdir)\n",
    "with writer.as_default():\n",
    "  tf.summary.graph(concrete_function.graph)"
   ]
  }
 ],
 "metadata": {
  "kernelspec": {
   "display_name": "Python 3.8.11 ('base')",
   "language": "python",
   "name": "python3"
  },
  "language_info": {
   "codemirror_mode": {
    "name": "ipython",
    "version": 3
   },
   "file_extension": ".py",
   "mimetype": "text/x-python",
   "name": "python",
   "nbconvert_exporter": "python",
   "pygments_lexer": "ipython3",
   "version": "3.8.11"
  },
  "orig_nbformat": 4,
  "vscode": {
   "interpreter": {
    "hash": "4fb6d4786d6ba20ad0e4bc2be870871392251dd057e3655123e5afdf59ecc94f"
   }
  }
 },
 "nbformat": 4,
 "nbformat_minor": 2
}
