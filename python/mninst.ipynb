{
 "cells": [
  {
   "cell_type": "code",
   "execution_count": 1,
   "metadata": {},
   "outputs": [
    {
     "name": "stderr",
     "output_type": "stream",
     "text": [
      "2022-08-25 15:06:25.207090: W tensorflow/stream_executor/platform/default/dso_loader.cc:64] Could not load dynamic library 'libcudart.so.11.0'; dlerror: libcudart.so.11.0: cannot open shared object file: No such file or directory\n",
      "2022-08-25 15:06:25.207117: I tensorflow/stream_executor/cuda/cudart_stub.cc:29] Ignore above cudart dlerror if you do not have a GPU set up on your machine.\n"
     ]
    }
   ],
   "source": [
    "import tensorflow as tf"
   ]
  },
  {
   "cell_type": "code",
   "execution_count": 2,
   "metadata": {},
   "outputs": [
    {
     "name": "stderr",
     "output_type": "stream",
     "text": [
      "2022-08-25 15:15:46.015959: W tensorflow/stream_executor/platform/default/dso_loader.cc:64] Could not load dynamic library 'libcuda.so.1'; dlerror: libcuda.so.1: cannot open shared object file: No such file or directory\n",
      "2022-08-25 15:15:46.015998: W tensorflow/stream_executor/cuda/cuda_driver.cc:269] failed call to cuInit: UNKNOWN ERROR (303)\n",
      "2022-08-25 15:15:46.016030: I tensorflow/stream_executor/cuda/cuda_diagnostics.cc:156] kernel driver does not appear to be running on this host (morio-H87M-S01): /proc/driver/nvidia/version does not exist\n",
      "2022-08-25 15:15:46.016316: I tensorflow/core/platform/cpu_feature_guard.cc:142] This TensorFlow binary is optimized with oneAPI Deep Neural Network Library (oneDNN) to use the following CPU instructions in performance-critical operations:  AVX2 FMA\n",
      "To enable them in other operations, rebuild TensorFlow with the appropriate compiler flags.\n"
     ]
    }
   ],
   "source": [
    "mninst = tf.keras.datasets.mnist\n",
    "\n",
    "(x_train,y_train),(x_test,y_test) = mninst.load_data()\n",
    "sample = x_test[0]\n",
    "x_train,x_test = x_train/255.0,x_test/255.0\n",
    "#入力型を制限\n",
    "x_train,x_test = x_train.astype(\"float32\"),x_test.astype(\"float32\")\n",
    "#テストアイテムを捨てる\n",
    "buf = tf.image.encode_png(sample[:, :, tf.newaxis])\n",
    "tf.io.write_file(\"examples/mnist_savedmodel/sample.png\", buf)"
   ]
  },
  {
   "cell_type": "code",
   "execution_count": 3,
   "metadata": {},
   "outputs": [],
   "source": [
    "class classImage(tf.keras.Model):\n",
    "  def __init__(self):\n",
    "    super(classImage,self).__init__()\n",
    "    self.flatten = tf.keras.layers.Flatten(input_shape=(28,28))\n",
    "    self.dense1 = tf.keras.layers.Dense(128,activation=\"relu\")\n",
    "    self.drop = tf.keras.layers.Dropout(0.2)\n",
    "    self.dense2 = tf.keras.layers.Dense(10)\n",
    "\n",
    "  def call(self,x):\n",
    "    x = self.flatten(x)\n",
    "    x = self.dense1(x)\n",
    "    x = self.drop(x)\n",
    "    return self.dense2(x)\n",
    "\n",
    "  \n",
    "model = classImage()\n"
   ]
  },
  {
   "cell_type": "code",
   "execution_count": 5,
   "metadata": {},
   "outputs": [
    {
     "name": "stderr",
     "output_type": "stream",
     "text": [
      "2022-08-25 15:52:00.058834: W tensorflow/core/framework/cpu_allocator_impl.cc:80] Allocation of 188160000 exceeds 10% of free system memory.\n",
      "2022-08-25 15:52:00.219940: I tensorflow/compiler/mlir/mlir_graph_optimization_pass.cc:185] None of the MLIR Optimization Passes are enabled (registered 2)\n"
     ]
    },
    {
     "name": "stdout",
     "output_type": "stream",
     "text": [
      "1875/1875 [==============================] - 3s 1ms/step - loss: 0.3008 - accuracy: 0.9136\n"
     ]
    },
    {
     "data": {
      "text/plain": [
       "<keras.callbacks.History at 0x7ff4d891fd30>"
      ]
     },
     "execution_count": 5,
     "metadata": {},
     "output_type": "execute_result"
    }
   ],
   "source": [
    "loss_fn = tf.keras.losses.SparseCategoricalCrossentropy(from_logits=True)\n",
    "model.compile(optimizer=\"adam\",loss=loss_fn,metrics=[\"accuracy\"])\n",
    "model.fit(x_train,y_train,epochs=1)"
   ]
  },
  {
   "cell_type": "code",
   "execution_count": 6,
   "metadata": {},
   "outputs": [],
   "source": [
    "#確立として解釈できるように、ソフトマックスを介して出力タイプを変換\n",
    "inputs = tf.keras.Input((28,28),name=\"input\",dtype=tf.float32)\n",
    "x = model(inputs)\n",
    "outputs = tf.keras.layers.Softmax(name=\"output\")(x)\n",
    "probability_model = tf.keras.Model(inputs=inputs, outputs=outputs)\n",
    "\n",
    "with open(\"examples/mnist_savedmodel/expected_values.txt\", \"w\") as f:\n",
    "    values = probability_model(x_test[:1, :, :])[0].numpy()\n",
    "    print(*values, sep=\", \", file=f)"
   ]
  },
  {
   "cell_type": "code",
   "execution_count": 7,
   "metadata": {},
   "outputs": [
    {
     "name": "stderr",
     "output_type": "stream",
     "text": [
      "2022-08-25 16:10:04.834135: W tensorflow/python/util/util.cc:348] Sets are not currently considered sequences, but this may change in the future, so consider avoiding using them.\n"
     ]
    },
    {
     "name": "stdout",
     "output_type": "stream",
     "text": [
      "INFO:tensorflow:Assets written to: examples/mnist_savedmodel/assets\n"
     ]
    }
   ],
   "source": [
    "directory = \"examples/mnist_savedmodel\"\n",
    "tf.saved_model.save(probability_model, directory)"
   ]
  }
 ],
 "metadata": {
  "kernelspec": {
   "display_name": "Python 3.8.11 ('base')",
   "language": "python",
   "name": "python3"
  },
  "language_info": {
   "codemirror_mode": {
    "name": "ipython",
    "version": 3
   },
   "file_extension": ".py",
   "mimetype": "text/x-python",
   "name": "python",
   "nbconvert_exporter": "python",
   "pygments_lexer": "ipython3",
   "version": "3.8.11"
  },
  "orig_nbformat": 4,
  "vscode": {
   "interpreter": {
    "hash": "4fb6d4786d6ba20ad0e4bc2be870871392251dd057e3655123e5afdf59ecc94f"
   }
  }
 },
 "nbformat": 4,
 "nbformat_minor": 2
}
