{
 "cells": [
  {
   "cell_type": "code",
   "execution_count": 295,
   "metadata": {},
   "outputs": [],
   "source": [
    "import tensorflow as tf\n",
    "import matplotlib.pyplot as plt\n",
    "import numpy as np"
   ]
  },
  {
   "cell_type": "code",
   "execution_count": 296,
   "metadata": {},
   "outputs": [],
   "source": [
    "def load_data():\n",
    "  x_train,y_train , x_test, y_test = np.load(\"./koke.npy\", allow_pickle=True)\n",
    "    # 入力データの各画素値を0-1の範囲で正規化(学習コストを下げるため)\n",
    "  X_train = x_train.astype(\"float32\") / 255.0\n",
    "  X_test  = x_test.astype(\"float32\") / 255.0\n",
    "  y_train,y_test = y_train.astype(\"uint8\"),y_test.astype(\"uint8\")\n",
    "  print(type(y_test[0]))\n",
    "  # to_categorical()にてラベルをone hot vector化\n",
    "  #y_train =tf.keras.utils.to_categorical(y_train, 15)\n",
    "  #y_test  = tf.keras.utils.to_categorical(y_test, 15)\n",
    "  return X_train,  y_train,X_test, y_test"
   ]
  },
  {
   "cell_type": "code",
   "execution_count": 297,
   "metadata": {},
   "outputs": [
    {
     "name": "stdout",
     "output_type": "stream",
     "text": [
      "<class 'numpy.uint8'>\n",
      "(300, 28, 28, 3)\n",
      "(300, 28, 28, 3)\n",
      "1\n",
      "0\n"
     ]
    },
    {
     "data": {
      "image/png": "[encoded data removed]",
      "text/plain": [
       "<Figure size 432x288 with 1 Axes>"
      ]
     },
     "metadata": {
      "needs_background": "light"
     },
     "output_type": "display_data"
    }
   ],
   "source": [
    "\n",
    "(x_train, y_train, x_test, y_test) = load_data()\n",
    "print(x_train.shape)\n",
    "train_images = x_train.reshape((len(x_train),28,28,3))\n",
    "test_images = x_test.reshape((len(x_test),28,28,3))\n",
    "print(x_train.shape)\n",
    "plt.imshow(x_train[0])\n",
    "\n",
    "\n",
    "print(y_train[0])\n",
    "print(y_test[0])"
   ]
  },
  {
   "cell_type": "code",
   "execution_count": 298,
   "metadata": {},
   "outputs": [
    {
     "name": "stdout",
     "output_type": "stream",
     "text": [
      "[]\n",
      "[]\n"
     ]
    }
   ],
   "source": [
    "class CNN(tf.keras.Model):\n",
    "  def __init__(self):\n",
    "    super(CNN,self).__init__()\n",
    "    self.conv1 = tf.keras.layers.Conv2D(32,(3,3),activation='relu',input_shape=(28,28,3))\n",
    "    self.maxpooling1 = tf.keras.layers.MaxPool2D((2,2))\n",
    "    self.conv2 = tf.keras.layers.Conv2D(64,(3,3),activation='relu')\n",
    "    self.maxpooling2 = tf.keras.layers.MaxPool2D((2,2))\n",
    "    self.conv3 = tf.keras.layers.Conv2D(64,(3,3),activation='relu')\n",
    "    self.flatten = tf.keras.layers.Flatten()\n",
    "    self.dens1 = tf.keras.layers.Dense(64,activation='relu')\n",
    "    self.dens2 = tf.keras.layers.Dense(15,activation='softmax')\n",
    "  \n",
    "  def call(self,x):\n",
    "    x = self.conv1(x)\n",
    "    x = self.maxpooling1(x)\n",
    "    x = self.conv2(x)\n",
    "    x = self.maxpooling2(x)\n",
    "    x = self.conv3(x)\n",
    "    x = self.flatten(x)\n",
    "    x = self.dens1(x)\n",
    "    return self.dens2(x)\n",
    "model = CNN()\n",
    "print(model.variables)\n",
    "print(model.trainable_variables)"
   ]
  },
  {
   "cell_type": "code",
   "execution_count": 299,
   "metadata": {},
   "outputs": [],
   "source": [
    "#損失関数\n",
    "loss_object = tf.keras.losses.SparseCategoricalCrossentropy()\n",
    "#最適化関数\n",
    "optimizer = tf.keras.optimizers.Adam()\n",
    "# 評価指標\n",
    "train_loss = tf.keras.metrics.Mean(name='train_loss')\n",
    "train_accuracy = tf.keras.metrics.SparseCategoricalAccuracy(name='train_accuracy')\n",
    "\n",
    "test_loss = tf.keras.metrics.Mean(name='test_loss')\n",
    "test_accuracy = tf.keras.metrics.SparseCategoricalAccuracy(name='test_accuracy')\n",
    "\n",
    "@tf.function\n",
    "def train_step(x,y):\n",
    "  with tf.GradientTape() as tape:\n",
    "    predictions = model(x)\n",
    "    loss = loss_object(y,predictions)\n",
    "  gradients = tape.gradient(loss, model.trainable_variables)\n",
    "  optimizer.apply_gradients(zip(gradients, model.trainable_variables))\n",
    "\n",
    "  train_loss(loss)\n",
    "  train_accuracy(y, predictions)\n",
    "\n",
    "@tf.function\n",
    "def test_step(x, t):\n",
    "    test_predictions = model(x)\n",
    "    t_loss = loss_object(t, test_predictions)\n",
    "\n",
    "    test_loss(t_loss)\n",
    "    test_accuracy(t, test_predictions)\n"
   ]
  },
  {
   "cell_type": "code",
   "execution_count": 300,
   "metadata": {},
   "outputs": [
    {
     "name": "stdout",
     "output_type": "stream",
     "text": [
      "<BatchDataset shapes: ((None, 28, 28, 3), (None,)), types: (tf.float32, tf.uint8)>\n",
      "(300, 28, 28, 3)\n",
      "(300,)\n",
      "(300,)\n",
      "tf.Tensor(\n",
      "[[0.06340041 0.0686439  0.06456211 ... 0.06553739 0.06321453 0.07536408]\n",
      " [0.06340041 0.0686439  0.06456211 ... 0.06553739 0.06321453 0.07536408]\n",
      " [0.06363481 0.06890018 0.06471539 ... 0.06687736 0.0621346  0.07475103]\n",
      " ...\n",
      " [0.06221802 0.06867193 0.0650848  ... 0.06579567 0.06148076 0.07421985]\n",
      " [0.06306871 0.07001889 0.06502783 ... 0.06491082 0.06176773 0.07324743]\n",
      " [0.06296959 0.06918977 0.06420017 ... 0.06586143 0.06247662 0.07427216]], shape=(300, 15), dtype=float32)\n",
      "Epoch 1, Loss: 2.6717395782470703, Accuracy: 13.0, test-Loss: 2.799865961074829, test-Accuracy:6.6666669845581055\n",
      "Epoch 2, Loss: 2.495680570602417, Accuracy: 15.333333969116211, test-Loss: 2.9876646995544434, test-Accuracy:6.6666669845581055\n",
      "Epoch 3, Loss: 2.363771915435791, Accuracy: 17.77777862548828, test-Loss: 3.1374123096466064, test-Accuracy:6.6666669845581055\n",
      "Epoch 4, Loss: 2.28409481048584, Accuracy: 19.83333396911621, test-Loss: 3.2777678966522217, test-Accuracy:6.6666669845581055\n",
      "Epoch 5, Loss: 2.2303926944732666, Accuracy: 22.200000762939453, test-Loss: 3.3307433128356934, test-Accuracy:6.6666669845581055\n",
      "Epoch 6, Loss: 2.1947014331817627, Accuracy: 23.77777862548828, test-Loss: 3.3806095123291016, test-Accuracy:6.6666669845581055\n",
      "Epoch 7, Loss: 2.1663272380828857, Accuracy: 24.904762268066406, test-Loss: 3.4227230548858643, test-Accuracy:6.6666669845581055\n",
      "Epoch 8, Loss: 2.142472505569458, Accuracy: 25.75, test-Loss: 3.441495180130005, test-Accuracy:6.6666669845581055\n",
      "Epoch 9, Loss: 2.1205382347106934, Accuracy: 26.40740966796875, test-Loss: 3.4787466526031494, test-Accuracy:6.6666669845581055\n",
      "Epoch 10, Loss: 2.105499029159546, Accuracy: 26.933332443237305, test-Loss: 3.464632034301758, test-Accuracy:6.6666669845581055\n",
      "Epoch 11, Loss: 2.0844287872314453, Accuracy: 27.000001907348633, test-Loss: 3.5081398487091064, test-Accuracy:6.6666669845581055\n",
      "Epoch 12, Loss: 2.0663065910339355, Accuracy: 27.194442749023438, test-Loss: 3.5108797550201416, test-Accuracy:6.94444465637207\n",
      "Epoch 13, Loss: 2.048734426498413, Accuracy: 27.820512771606445, test-Loss: 3.513397455215454, test-Accuracy:7.4358978271484375\n",
      "Epoch 14, Loss: 2.0297458171844482, Accuracy: 28.095239639282227, test-Loss: 3.5225048065185547, test-Accuracy:7.619048118591309\n",
      "Epoch 15, Loss: 2.0107581615448, Accuracy: 28.77777862548828, test-Loss: 3.507608652114868, test-Accuracy:7.777778148651123\n",
      "Epoch 16, Loss: 1.9875304698944092, Accuracy: 29.54166603088379, test-Loss: 3.533188581466675, test-Accuracy:7.916666507720947\n",
      "Epoch 17, Loss: 1.9688845872879028, Accuracy: 30.117645263671875, test-Loss: 3.5444724559783936, test-Accuracy:7.843137741088867\n",
      "Epoch 18, Loss: 1.9515231847763062, Accuracy: 30.796295166015625, test-Loss: 3.545259714126587, test-Accuracy:8.148147583007812\n",
      "Epoch 19, Loss: 1.9328240156173706, Accuracy: 31.421052932739258, test-Loss: 3.540722608566284, test-Accuracy:8.421052932739258\n",
      "Epoch 20, Loss: 1.9118952751159668, Accuracy: 32.03333282470703, test-Loss: 3.558784008026123, test-Accuracy:8.666666984558105\n"
     ]
    }
   ],
   "source": [
    "train_ds = tf.data.Dataset.from_tensor_slices((x_train, y_train)).shuffle(100).batch(30)\n",
    "test_ds = tf.data.Dataset.from_tensor_slices((x_test, y_test)).batch(30)\n",
    "print(train_ds)\n",
    "print(x_train.shape)\n",
    "print(y_train.shape)\n",
    "#np.reshape(y_train,(-1,len(y_train)))\n",
    "#y_train = y_train[:,np.newaxis]\n",
    "print(y_train.shape)\n",
    "print(model(x_train))\n",
    "#train_step(x_train,y_train)\n",
    "EPOCHS = 20\n",
    "for epoch in range(EPOCHS):\n",
    "  for images, labels in train_ds:\n",
    "    #print(images.shape,labels.shape)\n",
    "    train_step(images, labels) #学習\n",
    "  for test_images, test_labels in test_ds:\n",
    "    test_step(test_images, test_labels) #評価\n",
    "\n",
    "  template = 'Epoch {}, Loss: {}, Accuracy: {}, test-Loss: {}, test-Accuracy:{}'\n",
    "  print(template.format(epoch + 1,\n",
    "                          train_loss.result(),\n",
    "                          train_accuracy.result() * 100,\n",
    "                          test_loss.result(),\n",
    "                          test_accuracy.result()*100))\n",
    "\n"
   ]
  }
 ],
 "metadata": {
  "kernelspec": {
   "display_name": "Python 3.8.11 ('base')",
   "language": "python",
   "name": "python3"
  },
  "language_info": {
   "codemirror_mode": {
    "name": "ipython",
    "version": 3
   },
   "file_extension": ".py",
   "mimetype": "text/x-python",
   "name": "python",
   "nbconvert_exporter": "python",
   "pygments_lexer": "ipython3",
   "version": "3.8.11"
  },
  "orig_nbformat": 4,
  "vscode": {
   "interpreter": {
    "hash": "4fb6d4786d6ba20ad0e4bc2be870871392251dd057e3655123e5afdf59ecc94f"
   }
  }
 },
 "nbformat": 4,
 "nbformat_minor": 2
}
