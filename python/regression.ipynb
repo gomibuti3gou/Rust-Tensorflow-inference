{
 "cells": [
  {
   "cell_type": "code",
   "execution_count": 1,
   "metadata": {},
   "outputs": [
    {
     "name": "stderr",
     "output_type": "stream",
     "text": [
      "2022-08-25 13:13:18.381105: W tensorflow/stream_executor/platform/default/dso_loader.cc:64] Could not load dynamic library 'libcudart.so.11.0'; dlerror: libcudart.so.11.0: cannot open shared object file: No such file or directory\n",
      "2022-08-25 13:13:18.381143: I tensorflow/stream_executor/cuda/cudart_stub.cc:29] Ignore above cudart dlerror if you do not have a GPU set up on your machine.\n"
     ]
    }
   ],
   "source": [
    "import tensorflow as tf"
   ]
  },
  {
   "cell_type": "code",
   "execution_count": 2,
   "metadata": {},
   "outputs": [
    {
     "name": "stderr",
     "output_type": "stream",
     "text": [
      "2022-08-25 13:38:43.522308: W tensorflow/stream_executor/platform/default/dso_loader.cc:64] Could not load dynamic library 'libcuda.so.1'; dlerror: libcuda.so.1: cannot open shared object file: No such file or directory\n",
      "2022-08-25 13:38:43.522335: W tensorflow/stream_executor/cuda/cuda_driver.cc:269] failed call to cuInit: UNKNOWN ERROR (303)\n",
      "2022-08-25 13:38:43.522355: I tensorflow/stream_executor/cuda/cuda_diagnostics.cc:156] kernel driver does not appear to be running on this host (morio-H87M-S01): /proc/driver/nvidia/version does not exist\n",
      "2022-08-25 13:38:43.524022: I tensorflow/core/platform/cpu_feature_guard.cc:142] This TensorFlow binary is optimized with oneAPI Deep Neural Network Library (oneDNN) to use the following CPU instructions in performance-critical operations:  AVX2 FMA\n",
      "To enable them in other operations, rebuild TensorFlow with the appropriate compiler flags.\n"
     ]
    }
   ],
   "source": [
    "from numpy import gradient\n",
    "\n",
    "\n",
    "class LinerRegression(tf.Module):\n",
    "  def __init__(self, name=None):\n",
    "    super(LinerRegression,self).__init__(name=name)\n",
    "    self.w = tf.Variable(tf.random.uniform([1],-1.0,1.0),name=\"w\")\n",
    "    self.b = tf.Variable(tf.zeros([1]),name=\"b\")\n",
    "    self.optimizer = tf.optimizers.SGD(0.5)\n",
    "  \n",
    "  @tf.function\n",
    "  def __call__(self,x):\n",
    "    y_hat = self.w * x + self.b\n",
    "    return  y_hat\n",
    "\n",
    "  @tf.function\n",
    "  def get_w(self):\n",
    "    return {\"output\":self.w}\n",
    "  \n",
    "  @tf.function\n",
    "  def get_b(self):\n",
    "    return {\"output\":self.b}\n",
    "  \n",
    "  @tf.function\n",
    "  def train(self,x,y):\n",
    "    with tf.GradientTape() as tape:\n",
    "      y_hat = self(x)\n",
    "      loss_value = tf.reduce_mean(tf.square(y_hat - y))\n",
    "    gradients = tape.gradient(loss_value,self.trainable_variables)\n",
    "    _ = self.optimizer.apply_gradients(zip(gradients, self.trainable_variables))\n",
    "    return {\"train\":loss_value}\n",
    "model = LinerRegression()\n",
    "\n",
    "\n"
   ]
  },
  {
   "cell_type": "code",
   "execution_count": 3,
   "metadata": {},
   "outputs": [
    {
     "name": "stderr",
     "output_type": "stream",
     "text": [
      "2022-08-25 13:41:15.221663: W tensorflow/python/util/util.cc:348] Sets are not currently considered sequences, but this may change in the future, so consider avoiding using them.\n"
     ]
    },
    {
     "name": "stdout",
     "output_type": "stream",
     "text": [
      "INFO:tensorflow:Assets written to: ./example/assets\n"
     ]
    }
   ],
   "source": [
    "x = tf.TensorSpec([None],tf.float32,name=\"x\")\n",
    "y = tf.TensorSpec([None],tf.float32,name=\"y\")\n",
    "train = model.train.get_concrete_function(x,y)\n",
    "w = model.get_w.get_concrete_function()\n",
    "b = model.get_b.get_concrete_function()\n",
    "\n",
    "dir = \"./example\"\n",
    "signatures = {\"train\":train,\"w\":w,\"b\":b}\n",
    "tf.saved_model.save(model,dir,signatures=signatures)\n"
   ]
  }
 ],
 "metadata": {
  "kernelspec": {
   "display_name": "Python 3.8.11 ('base')",
   "language": "python",
   "name": "python3"
  },
  "language_info": {
   "codemirror_mode": {
    "name": "ipython",
    "version": 3
   },
   "file_extension": ".py",
   "mimetype": "text/x-python",
   "name": "python",
   "nbconvert_exporter": "python",
   "pygments_lexer": "ipython3",
   "version": "3.8.11"
  },
  "orig_nbformat": 4,
  "vscode": {
   "interpreter": {
    "hash": "4fb6d4786d6ba20ad0e4bc2be870871392251dd057e3655123e5afdf59ecc94f"
   }
  }
 },
 "nbformat": 4,
 "nbformat_minor": 2
}
